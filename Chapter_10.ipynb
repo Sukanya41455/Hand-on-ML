{
  "nbformat": 4,
  "nbformat_minor": 0,
  "metadata": {
    "colab": {
      "name": "Chapter-10.ipynb",
      "provenance": [],
      "authorship_tag": "ABX9TyOl/gMCES/EXe4NxeXVj2GR",
      "include_colab_link": true
    },
    "kernelspec": {
      "name": "python3",
      "display_name": "Python 3"
    },
    "language_info": {
      "name": "python"
    }
  },
  "cells": [
    {
      "cell_type": "markdown",
      "metadata": {
        "id": "view-in-github",
        "colab_type": "text"
      },
      "source": [
        "<a href=\"https://colab.research.google.com/github/Sukanya41455/Hand-on-ML/blob/main/Chapter_10.ipynb\" target=\"_parent\"><img src=\"https://colab.research.google.com/assets/colab-badge.svg\" alt=\"Open In Colab\"/></a>"
      ]
    },
    {
      "cell_type": "code",
      "execution_count": null,
      "metadata": {
        "colab": {
          "base_uri": "https://localhost:8080/"
        },
        "id": "OC8uG4p2qadh",
        "outputId": "54d43746-f500-4521-9cc9-b1801a8eb475"
      },
      "outputs": [
        {
          "output_type": "stream",
          "name": "stdout",
          "text": [
            "{'data': array([[5.1, 3.5, 1.4, 0.2],\n",
            "       [4.9, 3. , 1.4, 0.2],\n",
            "       [4.7, 3.2, 1.3, 0.2],\n",
            "       [4.6, 3.1, 1.5, 0.2],\n",
            "       [5. , 3.6, 1.4, 0.2],\n",
            "       [5.4, 3.9, 1.7, 0.4],\n",
            "       [4.6, 3.4, 1.4, 0.3],\n",
            "       [5. , 3.4, 1.5, 0.2],\n",
            "       [4.4, 2.9, 1.4, 0.2],\n",
            "       [4.9, 3.1, 1.5, 0.1],\n",
            "       [5.4, 3.7, 1.5, 0.2],\n",
            "       [4.8, 3.4, 1.6, 0.2],\n",
            "       [4.8, 3. , 1.4, 0.1],\n",
            "       [4.3, 3. , 1.1, 0.1],\n",
            "       [5.8, 4. , 1.2, 0.2],\n",
            "       [5.7, 4.4, 1.5, 0.4],\n",
            "       [5.4, 3.9, 1.3, 0.4],\n",
            "       [5.1, 3.5, 1.4, 0.3],\n",
            "       [5.7, 3.8, 1.7, 0.3],\n",
            "       [5.1, 3.8, 1.5, 0.3],\n",
            "       [5.4, 3.4, 1.7, 0.2],\n",
            "       [5.1, 3.7, 1.5, 0.4],\n",
            "       [4.6, 3.6, 1. , 0.2],\n",
            "       [5.1, 3.3, 1.7, 0.5],\n",
            "       [4.8, 3.4, 1.9, 0.2],\n",
            "       [5. , 3. , 1.6, 0.2],\n",
            "       [5. , 3.4, 1.6, 0.4],\n",
            "       [5.2, 3.5, 1.5, 0.2],\n",
            "       [5.2, 3.4, 1.4, 0.2],\n",
            "       [4.7, 3.2, 1.6, 0.2],\n",
            "       [4.8, 3.1, 1.6, 0.2],\n",
            "       [5.4, 3.4, 1.5, 0.4],\n",
            "       [5.2, 4.1, 1.5, 0.1],\n",
            "       [5.5, 4.2, 1.4, 0.2],\n",
            "       [4.9, 3.1, 1.5, 0.2],\n",
            "       [5. , 3.2, 1.2, 0.2],\n",
            "       [5.5, 3.5, 1.3, 0.2],\n",
            "       [4.9, 3.6, 1.4, 0.1],\n",
            "       [4.4, 3. , 1.3, 0.2],\n",
            "       [5.1, 3.4, 1.5, 0.2],\n",
            "       [5. , 3.5, 1.3, 0.3],\n",
            "       [4.5, 2.3, 1.3, 0.3],\n",
            "       [4.4, 3.2, 1.3, 0.2],\n",
            "       [5. , 3.5, 1.6, 0.6],\n",
            "       [5.1, 3.8, 1.9, 0.4],\n",
            "       [4.8, 3. , 1.4, 0.3],\n",
            "       [5.1, 3.8, 1.6, 0.2],\n",
            "       [4.6, 3.2, 1.4, 0.2],\n",
            "       [5.3, 3.7, 1.5, 0.2],\n",
            "       [5. , 3.3, 1.4, 0.2],\n",
            "       [7. , 3.2, 4.7, 1.4],\n",
            "       [6.4, 3.2, 4.5, 1.5],\n",
            "       [6.9, 3.1, 4.9, 1.5],\n",
            "       [5.5, 2.3, 4. , 1.3],\n",
            "       [6.5, 2.8, 4.6, 1.5],\n",
            "       [5.7, 2.8, 4.5, 1.3],\n",
            "       [6.3, 3.3, 4.7, 1.6],\n",
            "       [4.9, 2.4, 3.3, 1. ],\n",
            "       [6.6, 2.9, 4.6, 1.3],\n",
            "       [5.2, 2.7, 3.9, 1.4],\n",
            "       [5. , 2. , 3.5, 1. ],\n",
            "       [5.9, 3. , 4.2, 1.5],\n",
            "       [6. , 2.2, 4. , 1. ],\n",
            "       [6.1, 2.9, 4.7, 1.4],\n",
            "       [5.6, 2.9, 3.6, 1.3],\n",
            "       [6.7, 3.1, 4.4, 1.4],\n",
            "       [5.6, 3. , 4.5, 1.5],\n",
            "       [5.8, 2.7, 4.1, 1. ],\n",
            "       [6.2, 2.2, 4.5, 1.5],\n",
            "       [5.6, 2.5, 3.9, 1.1],\n",
            "       [5.9, 3.2, 4.8, 1.8],\n",
            "       [6.1, 2.8, 4. , 1.3],\n",
            "       [6.3, 2.5, 4.9, 1.5],\n",
            "       [6.1, 2.8, 4.7, 1.2],\n",
            "       [6.4, 2.9, 4.3, 1.3],\n",
            "       [6.6, 3. , 4.4, 1.4],\n",
            "       [6.8, 2.8, 4.8, 1.4],\n",
            "       [6.7, 3. , 5. , 1.7],\n",
            "       [6. , 2.9, 4.5, 1.5],\n",
            "       [5.7, 2.6, 3.5, 1. ],\n",
            "       [5.5, 2.4, 3.8, 1.1],\n",
            "       [5.5, 2.4, 3.7, 1. ],\n",
            "       [5.8, 2.7, 3.9, 1.2],\n",
            "       [6. , 2.7, 5.1, 1.6],\n",
            "       [5.4, 3. , 4.5, 1.5],\n",
            "       [6. , 3.4, 4.5, 1.6],\n",
            "       [6.7, 3.1, 4.7, 1.5],\n",
            "       [6.3, 2.3, 4.4, 1.3],\n",
            "       [5.6, 3. , 4.1, 1.3],\n",
            "       [5.5, 2.5, 4. , 1.3],\n",
            "       [5.5, 2.6, 4.4, 1.2],\n",
            "       [6.1, 3. , 4.6, 1.4],\n",
            "       [5.8, 2.6, 4. , 1.2],\n",
            "       [5. , 2.3, 3.3, 1. ],\n",
            "       [5.6, 2.7, 4.2, 1.3],\n",
            "       [5.7, 3. , 4.2, 1.2],\n",
            "       [5.7, 2.9, 4.2, 1.3],\n",
            "       [6.2, 2.9, 4.3, 1.3],\n",
            "       [5.1, 2.5, 3. , 1.1],\n",
            "       [5.7, 2.8, 4.1, 1.3],\n",
            "       [6.3, 3.3, 6. , 2.5],\n",
            "       [5.8, 2.7, 5.1, 1.9],\n",
            "       [7.1, 3. , 5.9, 2.1],\n",
            "       [6.3, 2.9, 5.6, 1.8],\n",
            "       [6.5, 3. , 5.8, 2.2],\n",
            "       [7.6, 3. , 6.6, 2.1],\n",
            "       [4.9, 2.5, 4.5, 1.7],\n",
            "       [7.3, 2.9, 6.3, 1.8],\n",
            "       [6.7, 2.5, 5.8, 1.8],\n",
            "       [7.2, 3.6, 6.1, 2.5],\n",
            "       [6.5, 3.2, 5.1, 2. ],\n",
            "       [6.4, 2.7, 5.3, 1.9],\n",
            "       [6.8, 3. , 5.5, 2.1],\n",
            "       [5.7, 2.5, 5. , 2. ],\n",
            "       [5.8, 2.8, 5.1, 2.4],\n",
            "       [6.4, 3.2, 5.3, 2.3],\n",
            "       [6.5, 3. , 5.5, 1.8],\n",
            "       [7.7, 3.8, 6.7, 2.2],\n",
            "       [7.7, 2.6, 6.9, 2.3],\n",
            "       [6. , 2.2, 5. , 1.5],\n",
            "       [6.9, 3.2, 5.7, 2.3],\n",
            "       [5.6, 2.8, 4.9, 2. ],\n",
            "       [7.7, 2.8, 6.7, 2. ],\n",
            "       [6.3, 2.7, 4.9, 1.8],\n",
            "       [6.7, 3.3, 5.7, 2.1],\n",
            "       [7.2, 3.2, 6. , 1.8],\n",
            "       [6.2, 2.8, 4.8, 1.8],\n",
            "       [6.1, 3. , 4.9, 1.8],\n",
            "       [6.4, 2.8, 5.6, 2.1],\n",
            "       [7.2, 3. , 5.8, 1.6],\n",
            "       [7.4, 2.8, 6.1, 1.9],\n",
            "       [7.9, 3.8, 6.4, 2. ],\n",
            "       [6.4, 2.8, 5.6, 2.2],\n",
            "       [6.3, 2.8, 5.1, 1.5],\n",
            "       [6.1, 2.6, 5.6, 1.4],\n",
            "       [7.7, 3. , 6.1, 2.3],\n",
            "       [6.3, 3.4, 5.6, 2.4],\n",
            "       [6.4, 3.1, 5.5, 1.8],\n",
            "       [6. , 3. , 4.8, 1.8],\n",
            "       [6.9, 3.1, 5.4, 2.1],\n",
            "       [6.7, 3.1, 5.6, 2.4],\n",
            "       [6.9, 3.1, 5.1, 2.3],\n",
            "       [5.8, 2.7, 5.1, 1.9],\n",
            "       [6.8, 3.2, 5.9, 2.3],\n",
            "       [6.7, 3.3, 5.7, 2.5],\n",
            "       [6.7, 3. , 5.2, 2.3],\n",
            "       [6.3, 2.5, 5. , 1.9],\n",
            "       [6.5, 3. , 5.2, 2. ],\n",
            "       [6.2, 3.4, 5.4, 2.3],\n",
            "       [5.9, 3. , 5.1, 1.8]]), 'target': array([0, 0, 0, 0, 0, 0, 0, 0, 0, 0, 0, 0, 0, 0, 0, 0, 0, 0, 0, 0, 0, 0,\n",
            "       0, 0, 0, 0, 0, 0, 0, 0, 0, 0, 0, 0, 0, 0, 0, 0, 0, 0, 0, 0, 0, 0,\n",
            "       0, 0, 0, 0, 0, 0, 1, 1, 1, 1, 1, 1, 1, 1, 1, 1, 1, 1, 1, 1, 1, 1,\n",
            "       1, 1, 1, 1, 1, 1, 1, 1, 1, 1, 1, 1, 1, 1, 1, 1, 1, 1, 1, 1, 1, 1,\n",
            "       1, 1, 1, 1, 1, 1, 1, 1, 1, 1, 1, 1, 2, 2, 2, 2, 2, 2, 2, 2, 2, 2,\n",
            "       2, 2, 2, 2, 2, 2, 2, 2, 2, 2, 2, 2, 2, 2, 2, 2, 2, 2, 2, 2, 2, 2,\n",
            "       2, 2, 2, 2, 2, 2, 2, 2, 2, 2, 2, 2, 2, 2, 2, 2, 2, 2]), 'frame': None, 'target_names': array(['setosa', 'versicolor', 'virginica'], dtype='<U10'), 'DESCR': '.. _iris_dataset:\\n\\nIris plants dataset\\n--------------------\\n\\n**Data Set Characteristics:**\\n\\n    :Number of Instances: 150 (50 in each of three classes)\\n    :Number of Attributes: 4 numeric, predictive attributes and the class\\n    :Attribute Information:\\n        - sepal length in cm\\n        - sepal width in cm\\n        - petal length in cm\\n        - petal width in cm\\n        - class:\\n                - Iris-Setosa\\n                - Iris-Versicolour\\n                - Iris-Virginica\\n                \\n    :Summary Statistics:\\n\\n    ============== ==== ==== ======= ===== ====================\\n                    Min  Max   Mean    SD   Class Correlation\\n    ============== ==== ==== ======= ===== ====================\\n    sepal length:   4.3  7.9   5.84   0.83    0.7826\\n    sepal width:    2.0  4.4   3.05   0.43   -0.4194\\n    petal length:   1.0  6.9   3.76   1.76    0.9490  (high!)\\n    petal width:    0.1  2.5   1.20   0.76    0.9565  (high!)\\n    ============== ==== ==== ======= ===== ====================\\n\\n    :Missing Attribute Values: None\\n    :Class Distribution: 33.3% for each of 3 classes.\\n    :Creator: R.A. Fisher\\n    :Donor: Michael Marshall (MARSHALL%PLU@io.arc.nasa.gov)\\n    :Date: July, 1988\\n\\nThe famous Iris database, first used by Sir R.A. Fisher. The dataset is taken\\nfrom Fisher\\'s paper. Note that it\\'s the same as in R, but not as in the UCI\\nMachine Learning Repository, which has two wrong data points.\\n\\nThis is perhaps the best known database to be found in the\\npattern recognition literature.  Fisher\\'s paper is a classic in the field and\\nis referenced frequently to this day.  (See Duda & Hart, for example.)  The\\ndata set contains 3 classes of 50 instances each, where each class refers to a\\ntype of iris plant.  One class is linearly separable from the other 2; the\\nlatter are NOT linearly separable from each other.\\n\\n.. topic:: References\\n\\n   - Fisher, R.A. \"The use of multiple measurements in taxonomic problems\"\\n     Annual Eugenics, 7, Part II, 179-188 (1936); also in \"Contributions to\\n     Mathematical Statistics\" (John Wiley, NY, 1950).\\n   - Duda, R.O., & Hart, P.E. (1973) Pattern Classification and Scene Analysis.\\n     (Q327.D83) John Wiley & Sons.  ISBN 0-471-22361-1.  See page 218.\\n   - Dasarathy, B.V. (1980) \"Nosing Around the Neighborhood: A New System\\n     Structure and Classification Rule for Recognition in Partially Exposed\\n     Environments\".  IEEE Transactions on Pattern Analysis and Machine\\n     Intelligence, Vol. PAMI-2, No. 1, 67-71.\\n   - Gates, G.W. (1972) \"The Reduced Nearest Neighbor Rule\".  IEEE Transactions\\n     on Information Theory, May 1972, 431-433.\\n   - See also: 1988 MLC Proceedings, 54-64.  Cheeseman et al\"s AUTOCLASS II\\n     conceptual clustering system finds 3 classes in the data.\\n   - Many, many more ...', 'feature_names': ['sepal length (cm)', 'sepal width (cm)', 'petal length (cm)', 'petal width (cm)'], 'filename': 'iris.csv', 'data_module': 'sklearn.datasets.data'}\n",
            "[0] [1]\n"
          ]
        }
      ],
      "source": [
        "import numpy as np\n",
        "from sklearn.datasets import load_iris\n",
        "from sklearn.linear_model import Perceptron\n",
        "\n",
        "iris = load_iris() #target names = ['setosa', 'versicolor', 'virginica'], cols= [\"sepal length\",\"sepal width\", \"petal length\",\"petal width\"]\n",
        "print(iris)\n",
        "X = iris.data[:,(2,3)] # petal length, petal width\n",
        "y = (iris.target == 0).astype(np.int16) # iris setosa?\n",
        "\n",
        "per_clf = Perceptron()\n",
        "per_clf.fit(X,y)\n",
        "y_pred1 = per_clf.predict([[2,0.5]])\n",
        "y_pred2 = per_clf.predict([[1.5,0.2]])\n",
        "print(y_pred1, y_pred2)"
      ]
    },
    {
      "cell_type": "markdown",
      "source": [
        "**BUILDING IMAGE CLASSIFIER USING SEQUENTIAL API**"
      ],
      "metadata": {
        "id": "JREn2jomcCoA"
      }
    },
    {
      "cell_type": "code",
      "source": [
        "from tensorflow import keras\n",
        "\n",
        "fashion_mnist = keras.datasets.fashion_mnist\n",
        "(X_train_full, y_train_full),(X_test,y_test) = fashion_mnist.load_data() "
      ],
      "metadata": {
        "colab": {
          "base_uri": "https://localhost:8080/"
        },
        "id": "Ug94azt2rABd",
        "outputId": "41f64eb5-32d0-4b84-9aa5-3b4b30aa1052"
      },
      "execution_count": 8,
      "outputs": [
        {
          "output_type": "stream",
          "name": "stdout",
          "text": [
            "Downloading data from https://storage.googleapis.com/tensorflow/tf-keras-datasets/train-labels-idx1-ubyte.gz\n",
            "32768/29515 [=================================] - 0s 0us/step\n",
            "40960/29515 [=========================================] - 0s 0us/step\n",
            "Downloading data from https://storage.googleapis.com/tensorflow/tf-keras-datasets/train-images-idx3-ubyte.gz\n",
            "26427392/26421880 [==============================] - 0s 0us/step\n",
            "26435584/26421880 [==============================] - 0s 0us/step\n",
            "Downloading data from https://storage.googleapis.com/tensorflow/tf-keras-datasets/t10k-labels-idx1-ubyte.gz\n",
            "16384/5148 [===============================================================================================] - 0s 0us/step\n",
            "Downloading data from https://storage.googleapis.com/tensorflow/tf-keras-datasets/t10k-images-idx3-ubyte.gz\n",
            "4423680/4422102 [==============================] - 0s 0us/step\n",
            "4431872/4422102 [==============================] - 0s 0us/step\n"
          ]
        }
      ]
    },
    {
      "cell_type": "code",
      "source": [
        "X_train_full.shape"
      ],
      "metadata": {
        "colab": {
          "base_uri": "https://localhost:8080/"
        },
        "id": "1tpQyMpTABqd",
        "outputId": "539d1390-dce9-4d61-eb5f-cb7f3fe66fd4"
      },
      "execution_count": null,
      "outputs": [
        {
          "output_type": "execute_result",
          "data": {
            "text/plain": [
              "(60000, 28, 28)"
            ]
          },
          "metadata": {},
          "execution_count": 13
        }
      ]
    },
    {
      "cell_type": "code",
      "source": [
        "X_train_full.dtype"
      ],
      "metadata": {
        "colab": {
          "base_uri": "https://localhost:8080/"
        },
        "id": "InjCd2pnAH74",
        "outputId": "54e21cbb-3ca5-4062-ee1e-f323bae6a001"
      },
      "execution_count": null,
      "outputs": [
        {
          "output_type": "execute_result",
          "data": {
            "text/plain": [
              "dtype('uint8')"
            ]
          },
          "metadata": {},
          "execution_count": 14
        }
      ]
    },
    {
      "cell_type": "code",
      "source": [
        "# to scale the input features\n",
        "# pixel intensities down to 0-1\n",
        "X_valid, X_train = X_train_full[:5000] / 255.0, X_train_full[5000:] / 255.0\n",
        "y_valid, y_train = y_train_full[:5000] , y_train_full[5000:]"
      ],
      "metadata": {
        "id": "SoXZiggcAMEx"
      },
      "execution_count": 9,
      "outputs": []
    },
    {
      "cell_type": "code",
      "source": [
        "class_names = [\"T-shirt/top\", \"Trouser\", \"Pullover\", \"Dress\", \"Coat\",\n",
        "               \"Sandal\", \"Shirt\", \"Sneaker\", \"Bag\", \"Ankle boot\"]\n",
        "class_names[y_train[0]]"
      ],
      "metadata": {
        "colab": {
          "base_uri": "https://localhost:8080/",
          "height": 36
        },
        "id": "zjlUtnA3CE8d",
        "outputId": "1593c7d0-5bb3-47e9-d4a7-1907aa1000e8"
      },
      "execution_count": null,
      "outputs": [
        {
          "output_type": "execute_result",
          "data": {
            "text/plain": [
              "'Coat'"
            ],
            "application/vnd.google.colaboratory.intrinsic+json": {
              "type": "string"
            }
          },
          "metadata": {},
          "execution_count": 18
        }
      ]
    },
    {
      "cell_type": "code",
      "source": [
        "from tensorflow import keras\n",
        "from tensorflow.keras import layers\n",
        "from tensorflow.keras import models\n",
        "\n",
        "model = models.Sequential()\n",
        "model.add(layers.Flatten(input_shape=[28,28])) # convert ip image to 1D array\n",
        "model.add(layers.Dense(300, activation='relu'))\n",
        "model.add(layers.Dense(100, activation='relu'))\n",
        "model.add(layers.Dense(10,activation='softmax'))\n",
        "\n",
        "'''\n",
        "or \n",
        "model = models.Sequential([\n",
        "  layers.Flatten(input_shape=[28,28]),\n",
        "  layers.Dense(300, activation='relu'),\n",
        "  layers.Dense(100, activation='relu'),\n",
        "  layers.Dense(10, activation='softmax')\n",
        "])\n",
        "'''\n",
        "model.summary()"
      ],
      "metadata": {
        "colab": {
          "base_uri": "https://localhost:8080/"
        },
        "id": "ZYubuhT_CzMo",
        "outputId": "50152991-5441-47e2-eeee-fba6c3ddfda3"
      },
      "execution_count": null,
      "outputs": [
        {
          "output_type": "stream",
          "name": "stdout",
          "text": [
            "Model: \"sequential\"\n",
            "_________________________________________________________________\n",
            " Layer (type)                Output Shape              Param #   \n",
            "=================================================================\n",
            " flatten (Flatten)           (None, 784)               0         \n",
            "                                                                 \n",
            " dense (Dense)               (None, 300)               235500    \n",
            "                                                                 \n",
            " dense_1 (Dense)             (None, 100)               30100     \n",
            "                                                                 \n",
            " dense_2 (Dense)             (None, 10)                1010      \n",
            "                                                                 \n",
            "=================================================================\n",
            "Total params: 266,610\n",
            "Trainable params: 266,610\n",
            "Non-trainable params: 0\n",
            "_________________________________________________________________\n"
          ]
        }
      ]
    },
    {
      "cell_type": "code",
      "source": [
        "model.layers"
      ],
      "metadata": {
        "colab": {
          "base_uri": "https://localhost:8080/"
        },
        "id": "7F1Xb06DM5HS",
        "outputId": "c7d4a647-8f70-4ec8-c6f4-d1e45b597082"
      },
      "execution_count": null,
      "outputs": [
        {
          "output_type": "execute_result",
          "data": {
            "text/plain": [
              "[<keras.layers.core.flatten.Flatten at 0x7ff37f2948d0>,\n",
              " <keras.layers.core.dense.Dense at 0x7ff37f3470d0>,\n",
              " <keras.layers.core.dense.Dense at 0x7ff37f355cd0>,\n",
              " <keras.layers.core.dense.Dense at 0x7ff37f902950>]"
            ]
          },
          "metadata": {},
          "execution_count": 20
        }
      ]
    },
    {
      "cell_type": "code",
      "source": [
        "model.get_layer('dense_2').name"
      ],
      "metadata": {
        "colab": {
          "base_uri": "https://localhost:8080/",
          "height": 36
        },
        "id": "lUR9KP5kM9Uf",
        "outputId": "42f113c3-2b8f-4ea6-f774-7dcfbbb707cb"
      },
      "execution_count": null,
      "outputs": [
        {
          "output_type": "execute_result",
          "data": {
            "text/plain": [
              "'dense_2'"
            ],
            "application/vnd.google.colaboratory.intrinsic+json": {
              "type": "string"
            }
          },
          "metadata": {},
          "execution_count": 22
        }
      ]
    },
    {
      "cell_type": "code",
      "source": [
        "weights, biases = model.get_layer('dense').get_weights()\n",
        "weights"
      ],
      "metadata": {
        "colab": {
          "base_uri": "https://localhost:8080/"
        },
        "id": "XULnFX76NDgR",
        "outputId": "b1a1bfb6-c545-4db4-ab9a-0afd73d50568"
      },
      "execution_count": null,
      "outputs": [
        {
          "output_type": "execute_result",
          "data": {
            "text/plain": [
              "array([[ 0.05799314, -0.04464902,  0.00663048, ...,  0.07035993,\n",
              "        -0.07193693, -0.05663535],\n",
              "       [ 0.05937821, -0.07385354,  0.05954799, ..., -0.07431754,\n",
              "        -0.06266259, -0.04307606],\n",
              "       [-0.04358881,  0.06146611,  0.06630094, ..., -0.00113304,\n",
              "        -0.04659906,  0.03674242],\n",
              "       ...,\n",
              "       [-0.03851677, -0.01105423, -0.03553204, ..., -0.03815052,\n",
              "        -0.05075937, -0.05168839],\n",
              "       [ 0.00382208,  0.06819524,  0.01625241, ..., -0.00592299,\n",
              "         0.04773288,  0.00536653],\n",
              "       [-0.02185261,  0.06967451,  0.04715103, ..., -0.03373491,\n",
              "         0.0408929 , -0.01283304]], dtype=float32)"
            ]
          },
          "metadata": {},
          "execution_count": 33
        }
      ]
    },
    {
      "cell_type": "code",
      "source": [
        "weights.shape"
      ],
      "metadata": {
        "colab": {
          "base_uri": "https://localhost:8080/"
        },
        "id": "Rimzw037NnzM",
        "outputId": "5e576cc7-5132-4df5-9799-1b092683e428"
      },
      "execution_count": null,
      "outputs": [
        {
          "output_type": "execute_result",
          "data": {
            "text/plain": [
              "(784, 300)"
            ]
          },
          "metadata": {},
          "execution_count": 34
        }
      ]
    },
    {
      "cell_type": "code",
      "source": [
        "biases"
      ],
      "metadata": {
        "colab": {
          "base_uri": "https://localhost:8080/"
        },
        "id": "U8g2ImGzOGZD",
        "outputId": "ef242965-6c15-4f1d-ed29-83457116e858"
      },
      "execution_count": null,
      "outputs": [
        {
          "output_type": "execute_result",
          "data": {
            "text/plain": [
              "array([0., 0., 0., 0., 0., 0., 0., 0., 0., 0., 0., 0., 0., 0., 0., 0., 0.,\n",
              "       0., 0., 0., 0., 0., 0., 0., 0., 0., 0., 0., 0., 0., 0., 0., 0., 0.,\n",
              "       0., 0., 0., 0., 0., 0., 0., 0., 0., 0., 0., 0., 0., 0., 0., 0., 0.,\n",
              "       0., 0., 0., 0., 0., 0., 0., 0., 0., 0., 0., 0., 0., 0., 0., 0., 0.,\n",
              "       0., 0., 0., 0., 0., 0., 0., 0., 0., 0., 0., 0., 0., 0., 0., 0., 0.,\n",
              "       0., 0., 0., 0., 0., 0., 0., 0., 0., 0., 0., 0., 0., 0., 0., 0., 0.,\n",
              "       0., 0., 0., 0., 0., 0., 0., 0., 0., 0., 0., 0., 0., 0., 0., 0., 0.,\n",
              "       0., 0., 0., 0., 0., 0., 0., 0., 0., 0., 0., 0., 0., 0., 0., 0., 0.,\n",
              "       0., 0., 0., 0., 0., 0., 0., 0., 0., 0., 0., 0., 0., 0., 0., 0., 0.,\n",
              "       0., 0., 0., 0., 0., 0., 0., 0., 0., 0., 0., 0., 0., 0., 0., 0., 0.,\n",
              "       0., 0., 0., 0., 0., 0., 0., 0., 0., 0., 0., 0., 0., 0., 0., 0., 0.,\n",
              "       0., 0., 0., 0., 0., 0., 0., 0., 0., 0., 0., 0., 0., 0., 0., 0., 0.,\n",
              "       0., 0., 0., 0., 0., 0., 0., 0., 0., 0., 0., 0., 0., 0., 0., 0., 0.,\n",
              "       0., 0., 0., 0., 0., 0., 0., 0., 0., 0., 0., 0., 0., 0., 0., 0., 0.,\n",
              "       0., 0., 0., 0., 0., 0., 0., 0., 0., 0., 0., 0., 0., 0., 0., 0., 0.,\n",
              "       0., 0., 0., 0., 0., 0., 0., 0., 0., 0., 0., 0., 0., 0., 0., 0., 0.,\n",
              "       0., 0., 0., 0., 0., 0., 0., 0., 0., 0., 0., 0., 0., 0., 0., 0., 0.,\n",
              "       0., 0., 0., 0., 0., 0., 0., 0., 0., 0., 0.], dtype=float32)"
            ]
          },
          "metadata": {},
          "execution_count": 35
        }
      ]
    },
    {
      "cell_type": "code",
      "source": [
        "biases.shape"
      ],
      "metadata": {
        "colab": {
          "base_uri": "https://localhost:8080/"
        },
        "id": "psaQx0_QOU6Q",
        "outputId": "26d39ee3-2ae6-459b-8141-8d1b3a4887c1"
      },
      "execution_count": null,
      "outputs": [
        {
          "output_type": "execute_result",
          "data": {
            "text/plain": [
              "(300,)"
            ]
          },
          "metadata": {},
          "execution_count": 36
        }
      ]
    },
    {
      "cell_type": "code",
      "source": [
        "model.compile(loss='sparse_categorical_crossentropy',\n",
        "              optimizer='sgd',\n",
        "              metrics=['accuracy'])"
      ],
      "metadata": {
        "id": "csIAND5zOXAs"
      },
      "execution_count": null,
      "outputs": []
    },
    {
      "cell_type": "code",
      "source": [
        "history = model.fit(X_train, y_train, epochs=30, validation_data=(X_valid,y_valid))"
      ],
      "metadata": {
        "colab": {
          "base_uri": "https://localhost:8080/"
        },
        "id": "PoBh9oEXQG__",
        "outputId": "c4ecf417-de9f-458c-9af2-f9dfde9ac5f8"
      },
      "execution_count": null,
      "outputs": [
        {
          "output_type": "stream",
          "name": "stdout",
          "text": [
            "Epoch 1/30\n",
            "1719/1719 [==============================] - 9s 5ms/step - loss: 0.7179 - accuracy: 0.7623 - val_loss: 0.5061 - val_accuracy: 0.8324\n",
            "Epoch 2/30\n",
            "1719/1719 [==============================] - 8s 5ms/step - loss: 0.4885 - accuracy: 0.8310 - val_loss: 0.4687 - val_accuracy: 0.8404\n",
            "Epoch 3/30\n",
            "1719/1719 [==============================] - 8s 5ms/step - loss: 0.4439 - accuracy: 0.8464 - val_loss: 0.4121 - val_accuracy: 0.8606\n",
            "Epoch 4/30\n",
            "1719/1719 [==============================] - 8s 4ms/step - loss: 0.4159 - accuracy: 0.8540 - val_loss: 0.3946 - val_accuracy: 0.8644\n",
            "Epoch 5/30\n",
            "1719/1719 [==============================] - 8s 5ms/step - loss: 0.3947 - accuracy: 0.8614 - val_loss: 0.3866 - val_accuracy: 0.8654\n",
            "Epoch 6/30\n",
            "1719/1719 [==============================] - 8s 4ms/step - loss: 0.3780 - accuracy: 0.8680 - val_loss: 0.3683 - val_accuracy: 0.8732\n",
            "Epoch 7/30\n",
            "1719/1719 [==============================] - 8s 4ms/step - loss: 0.3642 - accuracy: 0.8720 - val_loss: 0.3573 - val_accuracy: 0.8786\n",
            "Epoch 8/30\n",
            "1719/1719 [==============================] - 8s 5ms/step - loss: 0.3517 - accuracy: 0.8762 - val_loss: 0.3570 - val_accuracy: 0.8780\n",
            "Epoch 9/30\n",
            "1719/1719 [==============================] - 8s 5ms/step - loss: 0.3418 - accuracy: 0.8782 - val_loss: 0.3431 - val_accuracy: 0.8806\n",
            "Epoch 10/30\n",
            "1719/1719 [==============================] - 8s 5ms/step - loss: 0.3320 - accuracy: 0.8818 - val_loss: 0.3558 - val_accuracy: 0.8750\n",
            "Epoch 11/30\n",
            "1719/1719 [==============================] - 8s 5ms/step - loss: 0.3235 - accuracy: 0.8838 - val_loss: 0.3362 - val_accuracy: 0.8802\n",
            "Epoch 12/30\n",
            "1719/1719 [==============================] - 9s 5ms/step - loss: 0.3144 - accuracy: 0.8881 - val_loss: 0.3533 - val_accuracy: 0.8766\n",
            "Epoch 13/30\n",
            "1719/1719 [==============================] - 8s 5ms/step - loss: 0.3092 - accuracy: 0.8892 - val_loss: 0.3431 - val_accuracy: 0.8754\n",
            "Epoch 14/30\n",
            "1719/1719 [==============================] - 8s 5ms/step - loss: 0.3012 - accuracy: 0.8923 - val_loss: 0.3589 - val_accuracy: 0.8726\n",
            "Epoch 15/30\n",
            "1719/1719 [==============================] - 10s 6ms/step - loss: 0.2949 - accuracy: 0.8934 - val_loss: 0.3178 - val_accuracy: 0.8848\n",
            "Epoch 16/30\n",
            "1719/1719 [==============================] - 8s 5ms/step - loss: 0.2887 - accuracy: 0.8959 - val_loss: 0.3189 - val_accuracy: 0.8860\n",
            "Epoch 17/30\n",
            "1719/1719 [==============================] - 9s 5ms/step - loss: 0.2823 - accuracy: 0.8977 - val_loss: 0.3149 - val_accuracy: 0.8876\n",
            "Epoch 18/30\n",
            "1719/1719 [==============================] - 9s 5ms/step - loss: 0.2767 - accuracy: 0.9004 - val_loss: 0.3237 - val_accuracy: 0.8846\n",
            "Epoch 19/30\n",
            "1719/1719 [==============================] - 9s 5ms/step - loss: 0.2720 - accuracy: 0.9020 - val_loss: 0.3110 - val_accuracy: 0.8882\n",
            "Epoch 20/30\n",
            "1719/1719 [==============================] - 9s 5ms/step - loss: 0.2672 - accuracy: 0.9033 - val_loss: 0.3079 - val_accuracy: 0.8886\n",
            "Epoch 21/30\n",
            "1719/1719 [==============================] - 9s 5ms/step - loss: 0.2618 - accuracy: 0.9055 - val_loss: 0.3144 - val_accuracy: 0.8872\n",
            "Epoch 22/30\n",
            "1719/1719 [==============================] - 9s 5ms/step - loss: 0.2577 - accuracy: 0.9067 - val_loss: 0.3074 - val_accuracy: 0.8896\n",
            "Epoch 23/30\n",
            "1719/1719 [==============================] - 9s 5ms/step - loss: 0.2523 - accuracy: 0.9085 - val_loss: 0.3149 - val_accuracy: 0.8886\n",
            "Epoch 24/30\n",
            "1719/1719 [==============================] - 8s 5ms/step - loss: 0.2484 - accuracy: 0.9112 - val_loss: 0.3230 - val_accuracy: 0.8826\n",
            "Epoch 25/30\n",
            "1719/1719 [==============================] - 9s 5ms/step - loss: 0.2451 - accuracy: 0.9121 - val_loss: 0.3083 - val_accuracy: 0.8888\n",
            "Epoch 26/30\n",
            "1719/1719 [==============================] - 9s 5ms/step - loss: 0.2408 - accuracy: 0.9128 - val_loss: 0.3014 - val_accuracy: 0.8920\n",
            "Epoch 27/30\n",
            "1719/1719 [==============================] - 9s 5ms/step - loss: 0.2369 - accuracy: 0.9159 - val_loss: 0.2933 - val_accuracy: 0.8962\n",
            "Epoch 28/30\n",
            "1719/1719 [==============================] - 9s 5ms/step - loss: 0.2328 - accuracy: 0.9167 - val_loss: 0.2919 - val_accuracy: 0.8938\n",
            "Epoch 29/30\n",
            "1719/1719 [==============================] - 9s 5ms/step - loss: 0.2290 - accuracy: 0.9186 - val_loss: 0.3074 - val_accuracy: 0.8880\n",
            "Epoch 30/30\n",
            "1719/1719 [==============================] - 8s 4ms/step - loss: 0.2254 - accuracy: 0.9191 - val_loss: 0.2927 - val_accuracy: 0.8962\n"
          ]
        }
      ]
    },
    {
      "cell_type": "code",
      "source": [
        "import pandas as pd\n",
        "import matplotlib.pyplot as plt\n",
        "\n",
        "pd.DataFrame(history.history).plot(figsize=(8,5))\n",
        "plt.grid(True)\n",
        "plt.gca().set_ylim(0,1)\n",
        "plt.show()"
      ],
      "metadata": {
        "colab": {
          "base_uri": "https://localhost:8080/",
          "height": 324
        },
        "id": "rIeKzfsCTVBK",
        "outputId": "e05ee3e2-86aa-475d-abb9-6a490f0d21f6"
      },
      "execution_count": null,
      "outputs": [
        {
          "output_type": "display_data",
          "data": {
            "text/plain": [
              "<Figure size 576x360 with 1 Axes>"
            ],
            "image/png": "[encoded data removed]"
          },
          "metadata": {
            "needs_background": "light"
          }
        }
      ]
    },
    {
      "cell_type": "code",
      "source": [
        "model.evaluate(X_test,y_test)"
      ],
      "metadata": {
        "colab": {
          "base_uri": "https://localhost:8080/"
        },
        "id": "Jdqd5WhWXWeN",
        "outputId": "390a5e1c-30dc-43a1-9a90-38e4041141bc"
      },
      "execution_count": null,
      "outputs": [
        {
          "output_type": "stream",
          "name": "stdout",
          "text": [
            "313/313 [==============================] - 2s 6ms/step - loss: 68.5278 - accuracy: 0.8383\n"
          ]
        },
        {
          "output_type": "execute_result",
          "data": {
            "text/plain": [
              "[68.5278091430664, 0.8382999897003174]"
            ]
          },
          "metadata": {},
          "execution_count": 40
        }
      ]
    },
    {
      "cell_type": "code",
      "source": [
        "X_new = X_test[:3]\n",
        "y_proba = model.predict(X_new)\n",
        "y_proba.round(2)"
      ],
      "metadata": {
        "colab": {
          "base_uri": "https://localhost:8080/"
        },
        "id": "0BOG1B8QYjN8",
        "outputId": "f9aea4bd-79e1-401e-bf2c-95a5a596d069"
      },
      "execution_count": null,
      "outputs": [
        {
          "output_type": "execute_result",
          "data": {
            "text/plain": [
              "array([[0., 0., 0., 0., 0., 0., 0., 0., 0., 1.],\n",
              "       [0., 0., 1., 0., 0., 0., 0., 0., 0., 0.],\n",
              "       [0., 1., 0., 0., 0., 0., 0., 0., 0., 0.]], dtype=float32)"
            ]
          },
          "metadata": {},
          "execution_count": 42
        }
      ]
    },
    {
      "cell_type": "code",
      "source": [
        "y_pred = model.predict(X_new)\n",
        "classes = np.argmax(y_pred,axis=1)\n",
        "print(classes)\n",
        "print(np.array(class_names)[classes])\n",
        "# check\n",
        "y_new = y_test[:3]\n",
        "print(y_new)"
      ],
      "metadata": {
        "colab": {
          "base_uri": "https://localhost:8080/"
        },
        "id": "5tBd0EY7ZmoN",
        "outputId": "5a14137b-fb56-4e5e-dfa7-31274c2376bf"
      },
      "execution_count": null,
      "outputs": [
        {
          "output_type": "stream",
          "name": "stdout",
          "text": [
            "[9 2 1]\n",
            "['Ankle boot' 'Pullover' 'Trouser']\n",
            "[9 2 1]\n"
          ]
        }
      ]
    },
    {
      "cell_type": "markdown",
      "source": [
        "**BUILDING A REGRESSION MLP USING SEQUENTIAL API**"
      ],
      "metadata": {
        "id": "0gAUSLX8cNmJ"
      }
    },
    {
      "cell_type": "code",
      "source": [
        "from sklearn.datasets import fetch_california_housing\n",
        "from sklearn.model_selection import train_test_split\n",
        "from sklearn.preprocessing import StandardScaler\n",
        "\n",
        "housing = fetch_california_housing()\n",
        "X_train_full, X_test, y_train_full, y_test = train_test_split(housing.data, housing.target)\n",
        "X_train, X_valid, y_train, y_valid = train_test_split(X_train_full, y_train_full)\n",
        "\n",
        "scaler = StandardScaler()\n",
        "X_train_scaled = scaler.fit_transform(X_train)\n",
        "X_valid_scaled = scaler.transform(X_valid)\n",
        "X_test_scaled = scaler.transform(X_test)"
      ],
      "metadata": {
        "id": "SwQI_hqMcMZx"
      },
      "execution_count": 11,
      "outputs": []
    },
    {
      "cell_type": "code",
      "source": [
        "model = keras.models.Sequential([\n",
        "    layers.Dense(30, activation=\"relu\", input_shape=X_train.shape[1:]),\n",
        "    layers.Dense(1)\n",
        "])"
      ],
      "metadata": {
        "id": "VrFjfSVCZ3d3"
      },
      "execution_count": null,
      "outputs": []
    },
    {
      "cell_type": "code",
      "source": [
        "model.compile(loss=\"mean_squared_error\", optimizer=\"sgd\")\n",
        "history = model.fit(X_train, y_train, epochs=20,validation_data=(X_valid, y_valid))"
      ],
      "metadata": {
        "colab": {
          "base_uri": "https://localhost:8080/"
        },
        "id": "OAmYgODXexEH",
        "outputId": "6cb573ec-80ec-4adf-96e1-296aac3c6b7e"
      },
      "execution_count": null,
      "outputs": [
        {
          "output_type": "stream",
          "name": "stdout",
          "text": [
            "Epoch 1/20\n",
            "363/363 [==============================] - 2s 4ms/step - loss: nan - val_loss: nan\n",
            "Epoch 2/20\n",
            "363/363 [==============================] - 1s 2ms/step - loss: nan - val_loss: nan\n",
            "Epoch 3/20\n",
            "363/363 [==============================] - 1s 2ms/step - loss: nan - val_loss: nan\n",
            "Epoch 4/20\n",
            "363/363 [==============================] - 1s 2ms/step - loss: nan - val_loss: nan\n",
            "Epoch 5/20\n",
            "363/363 [==============================] - 1s 2ms/step - loss: nan - val_loss: nan\n",
            "Epoch 6/20\n",
            "363/363 [==============================] - 1s 2ms/step - loss: nan - val_loss: nan\n",
            "Epoch 7/20\n",
            "363/363 [==============================] - 1s 2ms/step - loss: nan - val_loss: nan\n",
            "Epoch 8/20\n",
            "363/363 [==============================] - 1s 2ms/step - loss: nan - val_loss: nan\n",
            "Epoch 9/20\n",
            "363/363 [==============================] - 1s 2ms/step - loss: nan - val_loss: nan\n",
            "Epoch 10/20\n",
            "363/363 [==============================] - 1s 2ms/step - loss: nan - val_loss: nan\n",
            "Epoch 11/20\n",
            "363/363 [==============================] - 1s 2ms/step - loss: nan - val_loss: nan\n",
            "Epoch 12/20\n",
            "363/363 [==============================] - 1s 2ms/step - loss: nan - val_loss: nan\n",
            "Epoch 13/20\n",
            "363/363 [==============================] - 1s 2ms/step - loss: nan - val_loss: nan\n",
            "Epoch 14/20\n",
            "363/363 [==============================] - 1s 2ms/step - loss: nan - val_loss: nan\n",
            "Epoch 15/20\n",
            "363/363 [==============================] - 1s 2ms/step - loss: nan - val_loss: nan\n",
            "Epoch 16/20\n",
            "363/363 [==============================] - 1s 2ms/step - loss: nan - val_loss: nan\n",
            "Epoch 17/20\n",
            "363/363 [==============================] - 1s 2ms/step - loss: nan - val_loss: nan\n",
            "Epoch 18/20\n",
            "363/363 [==============================] - 1s 2ms/step - loss: nan - val_loss: nan\n",
            "Epoch 19/20\n",
            "363/363 [==============================] - 1s 2ms/step - loss: nan - val_loss: nan\n",
            "Epoch 20/20\n",
            "363/363 [==============================] - 1s 2ms/step - loss: nan - val_loss: nan\n"
          ]
        }
      ]
    },
    {
      "cell_type": "code",
      "source": [
        "mse_test = model.evaluate(X_test,y_test)\n",
        "X_new = X_test[:3]\n",
        "y_pred = model.predict(X_new)\n",
        "print(y_pred)\n",
        "print(y_test[:3])"
      ],
      "metadata": {
        "colab": {
          "base_uri": "https://localhost:8080/"
        },
        "id": "8zzRuqY6edWE",
        "outputId": "08c523d9-558f-440b-c10e-933d6b4ed630"
      },
      "execution_count": null,
      "outputs": [
        {
          "output_type": "stream",
          "name": "stdout",
          "text": [
            "162/162 [==============================] - 0s 1ms/step - loss: nan\n",
            "[[nan]\n",
            " [nan]\n",
            " [nan]]\n",
            "[3.551 3.55  1.743]\n"
          ]
        }
      ]
    },
    {
      "cell_type": "markdown",
      "source": [
        "**BUILDING COMPLEX MODELS USING THE FUNCTIONAL API**"
      ],
      "metadata": {
        "id": "b10cExSAgZH7"
      }
    },
    {
      "cell_type": "code",
      "source": [
        "input = layers.Input(shape=X_train.shape[1:])\n",
        "hidden1 = layers.Dense(30, activation='relu')(input)\n",
        "hidden2 = layers.Dense(30, activation='relu')(hidden1)\n",
        "concat = layers.concatenate([input, hidden2])\n",
        "output = layers.Dense(1)(concat)\n",
        "model = models.Model(inputs=[input], outputs=[output])"
      ],
      "metadata": {
        "id": "a5Gu7RoAfy_C"
      },
      "execution_count": null,
      "outputs": []
    },
    {
      "cell_type": "code",
      "source": [
        "# multiple inputs\n",
        "input_A = layers.Input(shape=[5])\n",
        "input_B = layers.Input(shape=[6])\n",
        "hidden1 = layers.Dense(30, activation='relu')(input_B)\n",
        "hidden2 = layers.Dense(30, activation='relu')(hidden1)\n",
        "concat = layers.concatenate([input_A, hidden2])\n",
        "output = layers.Dense(1)(concat)\n",
        "model = models.Model(inputs=[input_A,input_B],outputs=[output])"
      ],
      "metadata": {
        "id": "OJNLY_LwuIqS"
      },
      "execution_count": null,
      "outputs": []
    },
    {
      "cell_type": "code",
      "source": [
        "model.compile(loss='mse', optimizer='sgd')\n",
        "X_train_A, X_train_B = X_train[:,:5], X_train[:,2:]\n",
        "X_test_A, X_test_B = X_test[:, :5], X_test[:,2:]\n",
        "X_valid_A, X_valid_B = X_valid[:,:5], X_valid[:,2:]\n",
        "X_new_A, X_new_B = X_test_A[:3], X_test_B[:3]\n",
        "\n",
        "history = model.fit((X_train_A, X_train_B), y_train, epochs=20,\n",
        "                    validation_data=((X_valid_A, X_valid_B),y_valid))\n",
        "\n",
        "mse_test = model.evaluate((X_test_A, X_test_B),y_test)\n",
        "y_pred = model.predict((X_new_A, X_new_B))\n"
      ],
      "metadata": {
        "colab": {
          "base_uri": "https://localhost:8080/"
        },
        "id": "rJvg_WoKvSsm",
        "outputId": "52efcf42-46da-49c2-e8a8-05f048922cad"
      },
      "execution_count": null,
      "outputs": [
        {
          "output_type": "stream",
          "name": "stdout",
          "text": [
            "Epoch 1/20\n",
            "363/363 [==============================] - 2s 5ms/step - loss: nan - val_loss: nan\n",
            "Epoch 2/20\n",
            "363/363 [==============================] - 1s 3ms/step - loss: nan - val_loss: nan\n",
            "Epoch 3/20\n",
            "363/363 [==============================] - 3s 7ms/step - loss: nan - val_loss: nan\n",
            "Epoch 4/20\n",
            "363/363 [==============================] - 1s 4ms/step - loss: nan - val_loss: nan\n",
            "Epoch 5/20\n",
            "363/363 [==============================] - 1s 3ms/step - loss: nan - val_loss: nan\n",
            "Epoch 6/20\n",
            "363/363 [==============================] - 1s 4ms/step - loss: nan - val_loss: nan\n",
            "Epoch 7/20\n",
            "363/363 [==============================] - 1s 3ms/step - loss: nan - val_loss: nan\n",
            "Epoch 8/20\n",
            "363/363 [==============================] - 1s 4ms/step - loss: nan - val_loss: nan\n",
            "Epoch 9/20\n",
            "363/363 [==============================] - 1s 4ms/step - loss: nan - val_loss: nan\n",
            "Epoch 10/20\n",
            "363/363 [==============================] - 1s 4ms/step - loss: nan - val_loss: nan\n",
            "Epoch 11/20\n",
            "363/363 [==============================] - 1s 4ms/step - loss: nan - val_loss: nan\n",
            "Epoch 12/20\n",
            "363/363 [==============================] - 1s 3ms/step - loss: nan - val_loss: nan\n",
            "Epoch 13/20\n",
            "363/363 [==============================] - 1s 3ms/step - loss: nan - val_loss: nan\n",
            "Epoch 14/20\n",
            "363/363 [==============================] - 1s 4ms/step - loss: nan - val_loss: nan\n",
            "Epoch 15/20\n",
            "363/363 [==============================] - 1s 4ms/step - loss: nan - val_loss: nan\n",
            "Epoch 16/20\n",
            "363/363 [==============================] - 1s 4ms/step - loss: nan - val_loss: nan\n",
            "Epoch 17/20\n",
            "363/363 [==============================] - 2s 5ms/step - loss: nan - val_loss: nan\n",
            "Epoch 18/20\n",
            "363/363 [==============================] - 1s 4ms/step - loss: nan - val_loss: nan\n",
            "Epoch 19/20\n",
            "363/363 [==============================] - 1s 4ms/step - loss: nan - val_loss: nan\n",
            "Epoch 20/20\n",
            "363/363 [==============================] - 1s 4ms/step - loss: nan - val_loss: nan\n",
            "162/162 [==============================] - 1s 3ms/step - loss: nan\n"
          ]
        }
      ]
    },
    {
      "cell_type": "code",
      "source": [
        "# multiple outputs\n",
        "input_A = layers.Input(shape=[5])\n",
        "input_B = layers.Input(shape=[6])\n",
        "hidden1 = layers.Dense(30, activation='relu')(input_B)\n",
        "hidden2 = layers.Dense(30, activation='relu')(hidden1)\n",
        "concat = layers.concatenate([input_A, hidden2])\n",
        "output = layers.Dense(1)(concat)\n",
        "aux_output = layers.Dense(1)(hidden2)\n",
        "model = models.Model(inputs=[input_A,input_B],outputs=[output, aux_output])"
      ],
      "metadata": {
        "id": "QbCAJdYH1XZm"
      },
      "execution_count": null,
      "outputs": []
    },
    {
      "cell_type": "code",
      "source": [
        "model.compile(loss=['mse','mse'],loss_weights=[0.9,0.1], optimizer='sgd')"
      ],
      "metadata": {
        "id": "khEUf9eG6soQ"
      },
      "execution_count": null,
      "outputs": []
    },
    {
      "cell_type": "code",
      "source": [
        "history = model.fit([X_train_A,X_train_B],[y_train,y_train], epochs=20,\n",
        "                    validation_data=([X_valid_A,X_valid_B],[y_valid,y_valid]))"
      ],
      "metadata": {
        "colab": {
          "base_uri": "https://localhost:8080/"
        },
        "id": "uK2-w2A763xC",
        "outputId": "945a461d-5ec0-42c7-eefd-0b143bf3ee0d"
      },
      "execution_count": null,
      "outputs": [
        {
          "output_type": "stream",
          "name": "stdout",
          "text": [
            "Epoch 1/20\n",
            "363/363 [==============================] - 3s 5ms/step - loss: nan - dense_29_loss: nan - dense_30_loss: nan - val_loss: nan - val_dense_29_loss: nan - val_dense_30_loss: nan\n",
            "Epoch 2/20\n",
            "363/363 [==============================] - 1s 4ms/step - loss: nan - dense_29_loss: nan - dense_30_loss: nan - val_loss: nan - val_dense_29_loss: nan - val_dense_30_loss: nan\n",
            "Epoch 3/20\n",
            "363/363 [==============================] - 1s 4ms/step - loss: nan - dense_29_loss: nan - dense_30_loss: nan - val_loss: nan - val_dense_29_loss: nan - val_dense_30_loss: nan\n",
            "Epoch 4/20\n",
            "363/363 [==============================] - 1s 4ms/step - loss: nan - dense_29_loss: nan - dense_30_loss: nan - val_loss: nan - val_dense_29_loss: nan - val_dense_30_loss: nan\n",
            "Epoch 5/20\n",
            "363/363 [==============================] - 1s 4ms/step - loss: nan - dense_29_loss: nan - dense_30_loss: nan - val_loss: nan - val_dense_29_loss: nan - val_dense_30_loss: nan\n",
            "Epoch 6/20\n",
            "363/363 [==============================] - 2s 4ms/step - loss: nan - dense_29_loss: nan - dense_30_loss: nan - val_loss: nan - val_dense_29_loss: nan - val_dense_30_loss: nan\n",
            "Epoch 7/20\n",
            "363/363 [==============================] - 2s 4ms/step - loss: nan - dense_29_loss: nan - dense_30_loss: nan - val_loss: nan - val_dense_29_loss: nan - val_dense_30_loss: nan\n",
            "Epoch 8/20\n",
            "363/363 [==============================] - 1s 4ms/step - loss: nan - dense_29_loss: nan - dense_30_loss: nan - val_loss: nan - val_dense_29_loss: nan - val_dense_30_loss: nan\n",
            "Epoch 9/20\n",
            "363/363 [==============================] - 2s 4ms/step - loss: nan - dense_29_loss: nan - dense_30_loss: nan - val_loss: nan - val_dense_29_loss: nan - val_dense_30_loss: nan\n",
            "Epoch 10/20\n",
            "363/363 [==============================] - 1s 4ms/step - loss: nan - dense_29_loss: nan - dense_30_loss: nan - val_loss: nan - val_dense_29_loss: nan - val_dense_30_loss: nan\n",
            "Epoch 11/20\n",
            "363/363 [==============================] - 1s 4ms/step - loss: nan - dense_29_loss: nan - dense_30_loss: nan - val_loss: nan - val_dense_29_loss: nan - val_dense_30_loss: nan\n",
            "Epoch 12/20\n",
            "363/363 [==============================] - 2s 4ms/step - loss: nan - dense_29_loss: nan - dense_30_loss: nan - val_loss: nan - val_dense_29_loss: nan - val_dense_30_loss: nan\n",
            "Epoch 13/20\n",
            "363/363 [==============================] - 1s 4ms/step - loss: nan - dense_29_loss: nan - dense_30_loss: nan - val_loss: nan - val_dense_29_loss: nan - val_dense_30_loss: nan\n",
            "Epoch 14/20\n",
            "363/363 [==============================] - 2s 7ms/step - loss: nan - dense_29_loss: nan - dense_30_loss: nan - val_loss: nan - val_dense_29_loss: nan - val_dense_30_loss: nan\n",
            "Epoch 15/20\n",
            "363/363 [==============================] - 2s 4ms/step - loss: nan - dense_29_loss: nan - dense_30_loss: nan - val_loss: nan - val_dense_29_loss: nan - val_dense_30_loss: nan\n",
            "Epoch 16/20\n",
            "363/363 [==============================] - 1s 4ms/step - loss: nan - dense_29_loss: nan - dense_30_loss: nan - val_loss: nan - val_dense_29_loss: nan - val_dense_30_loss: nan\n",
            "Epoch 17/20\n",
            "363/363 [==============================] - 2s 4ms/step - loss: nan - dense_29_loss: nan - dense_30_loss: nan - val_loss: nan - val_dense_29_loss: nan - val_dense_30_loss: nan\n",
            "Epoch 18/20\n",
            "363/363 [==============================] - 1s 4ms/step - loss: nan - dense_29_loss: nan - dense_30_loss: nan - val_loss: nan - val_dense_29_loss: nan - val_dense_30_loss: nan\n",
            "Epoch 19/20\n",
            "363/363 [==============================] - 1s 4ms/step - loss: nan - dense_29_loss: nan - dense_30_loss: nan - val_loss: nan - val_dense_29_loss: nan - val_dense_30_loss: nan\n",
            "Epoch 20/20\n",
            "363/363 [==============================] - 1s 4ms/step - loss: nan - dense_29_loss: nan - dense_30_loss: nan - val_loss: nan - val_dense_29_loss: nan - val_dense_30_loss: nan\n"
          ]
        }
      ]
    },
    {
      "cell_type": "code",
      "source": [
        "total_loss, main_loss, aux_loss = model.evaluate([X_test_A,X_test_B],[y_test,y_test])"
      ],
      "metadata": {
        "colab": {
          "base_uri": "https://localhost:8080/"
        },
        "id": "bL5JdltH7TYf",
        "outputId": "198cad34-4a6b-439f-e6f4-661d017a7358"
      },
      "execution_count": null,
      "outputs": [
        {
          "output_type": "stream",
          "name": "stdout",
          "text": [
            "162/162 [==============================] - 1s 4ms/step - loss: nan - dense_29_loss: nan - dense_30_loss: nan\n"
          ]
        }
      ]
    },
    {
      "cell_type": "code",
      "source": [
        "y_pred_main, y_pred_aux = model.predict([X_new_A,X_new_B])"
      ],
      "metadata": {
        "colab": {
          "base_uri": "https://localhost:8080/"
        },
        "id": "SBRVCgrM8So1",
        "outputId": "7f064119-b8f0-4353-b16a-15a32d9c0d62"
      },
      "execution_count": null,
      "outputs": [
        {
          "output_type": "stream",
          "name": "stdout",
          "text": [
            "WARNING:tensorflow:5 out of the last 11 calls to <function Model.make_predict_function.<locals>.predict_function at 0x7ff376cfb320> triggered tf.function retracing. Tracing is expensive and the excessive number of tracings could be due to (1) creating @tf.function repeatedly in a loop, (2) passing tensors with different shapes, (3) passing Python objects instead of tensors. For (1), please define your @tf.function outside of the loop. For (2), @tf.function has experimental_relax_shapes=True option that relaxes argument shapes that can avoid unnecessary retracing. For (3), please refer to https://www.tensorflow.org/guide/function#controlling_retracing and https://www.tensorflow.org/api_docs/python/tf/function for  more details.\n"
          ]
        }
      ]
    },
    {
      "cell_type": "markdown",
      "source": [
        "**BUILDING DYNAMIC MODELS USING THE SUBCLASSING API**"
      ],
      "metadata": {
        "id": "QKN-yfe08gnz"
      }
    },
    {
      "cell_type": "code",
      "source": [
        "from tensorflow import keras\n",
        "from tensorflow.keras import layers\n",
        "from tensorflow.keras import models\n",
        "\n",
        "class WideAndDeepModel(keras.Model):\n",
        "  def __intit__(self, units=30, activation='relu', **kwargs):\n",
        "    super().__init__(**kwargs)\n",
        "    self.hidden1 = layers.Dense(units, activation=activation)\n",
        "    self.hidden2 = layers.Dense(units, activation=activation)\n",
        "    self.main_output = layers.Dense(1)\n",
        "    aux_output = layers.Dense(1)\n",
        "\n",
        "  def call(self, inputs):\n",
        "    input_A, input_B = inputs\n",
        "    hidden1 = self.hidden1(input_B)\n",
        "    hidden2 = self.hidden2(hidden1)\n",
        "    concat = layers.concatenate([input_A, hidden2])\n",
        "    main_output = self.main_output(concat)\n",
        "    aux_output = self.aux_output(hidden2)\n",
        "    return main_output, aux_output\n",
        "\n",
        "model = WideAndDeepModel()"
      ],
      "metadata": {
        "id": "BZ_sgEcb8ZFE"
      },
      "execution_count": null,
      "outputs": []
    },
    {
      "cell_type": "markdown",
      "source": [
        "**SAVING AND RESTORING A MODEL**"
      ],
      "metadata": {
        "id": "SAVtd36PQIkd"
      }
    },
    {
      "cell_type": "code",
      "source": [
        "# saves both the architecture and \n",
        "# value of all model parameters for every layer\n",
        "# also saves optimizer, including its hyperparameters and state it may have\n",
        "model.save(\"keras_model.h5\")\n",
        "# load\n",
        "model = keras.models.load_model(\"keras_model.h5\")"
      ],
      "metadata": {
        "id": "DQ8Dfwh3RBIO"
      },
      "execution_count": null,
      "outputs": []
    },
    {
      "cell_type": "markdown",
      "source": [
        "**CALLBACKS**"
      ],
      "metadata": {
        "id": "w5K34EhURF5O"
      }
    },
    {
      "cell_type": "code",
      "source": [
        "checkpoint_cb = keras.callbacks.ModelCheckpoint(\"keras_model.h5\")\n",
        "history = model.fit(X_train, y_train, epochs=10, callbacks=[checkpoint_cb])"
      ],
      "metadata": {
        "id": "uW1-9lhYREiO"
      },
      "execution_count": null,
      "outputs": []
    },
    {
      "cell_type": "code",
      "source": [
        "# simple way to implement Early stopping\n",
        "checkpoint_cb = keras.callbacks.ModelCheckpoint(\"keras_model.h5\", save_best_only=True)\n",
        "history = model.fit(X_train,y_train, epochs=10, \n",
        "                    validation_data=(X_valid,y_valid),\n",
        "                    callbacks=[checkpoint_cb])\n",
        "model = keras.models.load_model('keras_model.h5') # rollback to best model"
      ],
      "metadata": {
        "id": "7N6iScpUSFDp"
      },
      "execution_count": null,
      "outputs": []
    },
    {
      "cell_type": "code",
      "source": [
        "# another way to implement early stopping\n",
        "early_stopping_cb = keras.callbacks.EarlyStopping(patience=10,\n",
        "                                                  restore_best_weights=True)\n",
        "history = model.fit(X_train,y_train,epochs=100,validation_data=(X_valid,y_valid),\n",
        "                    callbacks=[checkpoint_cb, early_stopping_cb])"
      ],
      "metadata": {
        "id": "oaYQKRlKSomP"
      },
      "execution_count": null,
      "outputs": []
    },
    {
      "cell_type": "code",
      "source": [
        "class PrintValTrainRatioCallback(keras.callbacks.Callback):\n",
        "  def on_epoch_end(self, epoch, logs):\n",
        "    print('\\nval/train: {:.2f}'.format(logs['val_loss']/logs['loss']))"
      ],
      "metadata": {
        "id": "0tcjvNbzm1ki"
      },
      "execution_count": null,
      "outputs": []
    },
    {
      "cell_type": "markdown",
      "source": [
        "**VISUALIZATION USING TENSORBOARD**"
      ],
      "metadata": {
        "id": "0g_k4LYqn21E"
      }
    },
    {
      "cell_type": "code",
      "source": [
        "import os\n",
        "import time\n",
        "\n",
        "root_logdir = os.path.join(os.curdir, 'my_logs')\n",
        "def get_run_logdir():\n",
        "  run_id = time.strftime(\"run_%Y_%m_%d-%H_%M_%S\")\n",
        "  return os.path.join(root_logdir, run_id)\n",
        "\n",
        "run_logdir = get_run_logdir()"
      ],
      "metadata": {
        "id": "XDO86_TknoGl"
      },
      "execution_count": null,
      "outputs": []
    },
    {
      "cell_type": "code",
      "source": [
        "# keras provides tensorboard callback\n",
        "tensorboard_cb = keras.callbacks.TensorBoard(run_logdir)\n",
        "history = model.fit(X_train,y_train, epochs=100,\n",
        "                    validation_data=(X_valid,y_valid),\n",
        "                    callbacks=[tensorboard_cb])\n"
      ],
      "metadata": {
        "id": "K4CDJMtjp9fT"
      },
      "execution_count": null,
      "outputs": []
    },
    {
      "cell_type": "code",
      "source": [
        "! tensorboard --logdir=./my_logs --port=6006"
      ],
      "metadata": {
        "id": "NBFzExopriYC"
      },
      "execution_count": null,
      "outputs": []
    },
    {
      "cell_type": "markdown",
      "source": [
        "**FINETUNING NEURAL NETWORK HYPERPARAMETERS**"
      ],
      "metadata": {
        "id": "l4s0EYL5ByJ9"
      }
    },
    {
      "cell_type": "code",
      "source": [
        "import tensorflow as tf\n",
        "from tensorflow.keras import models\n",
        "from tensorflow.keras import layers\n",
        "from tensorflow import keras\n",
        "\n",
        "def build_model(n_hidden=1, n_neurons=30, learning_rate=3e-3, input_shape=[8]):\n",
        "  model = models.Sequential()\n",
        "  options = {\"input_shape\": input_shape}\n",
        "  for layer in range(n_hidden):\n",
        "    model.add(layers.Dense(n_neurons, activation='relu', **options))\n",
        "    options = {}\n",
        "  model.add(layers.Dense(1, **options))\n",
        "  optimizer = keras.optimizers.SGD(learning_rate)\n",
        "  model.compile(loss='mse', optimizer=optimizer)\n",
        "  return model"
      ],
      "metadata": {
        "id": "CnOLfqUFrnrR"
      },
      "execution_count": 1,
      "outputs": []
    },
    {
      "cell_type": "code",
      "source": [
        "# keras regressor [pip install scikeras]\n",
        "from scikeras.wrappers import KerasClassifier, KerasRegressor\n",
        "keras_reg = KerasRegressor(build_model)"
      ],
      "metadata": {
        "id": "mxVUmkUuDSci"
      },
      "execution_count": 5,
      "outputs": []
    },
    {
      "cell_type": "code",
      "source": [
        "keras_reg.fit(X_train, y_train, epochs=100,\n",
        "              validation_data=(X_valid, y_valid),\n",
        "              callbacks=[keras.callbacks.EarlyStopping(patience=10)])\n",
        "mse_test = keras_reg.score(X_test,y_test)\n",
        "y_pred = keras_reg(X_new)"
      ],
      "metadata": {
        "id": "XA1hp3bvJR31"
      },
      "execution_count": null,
      "outputs": []
    },
    {
      "cell_type": "code",
      "source": [
        "# RANDOMIZED SEARCH\n",
        "import numpy as np\n",
        "from scipy.stats import reciprocal\n",
        "from sklearn.model_selection import RandomizedSearchCV\n",
        "\n",
        "param_distribs = {\n",
        "    \"n_hidden\": [0,1,2,3],\n",
        "    \"n_neurons\": np.arange(1,100),\n",
        "    \"learning_rate\": reciprocal(3e-4, 3e-2),\n",
        "}\n",
        "\n",
        "rnd_search_cv = RandomizedSearchCV(keras_reg, param_distribs, n_iter=10, cv=3)\n",
        "rnd_search_cv.fit(X_train, y_train, epochs=100,\n",
        "                  validation_data=(X_valid,y_valid),\n",
        "                  callbacks=[keras.callbacks.EarlyStopping(patience=10)])"
      ],
      "metadata": {
        "id": "Zhoc49wCH0gm"
      },
      "execution_count": null,
      "outputs": []
    },
    {
      "cell_type": "code",
      "source": [
        "rnd_search_cv.best_params_\n",
        "# {'learning_rate': 0.0033625641252688094, 'n_hidden': 2, 'n_neurons': 42}"
      ],
      "metadata": {
        "id": "Dlyu5ktxICzI"
      },
      "execution_count": null,
      "outputs": []
    },
    {
      "cell_type": "code",
      "source": [
        "rnd_search_cv.best_score_\n",
        "# -0.3189529188278931"
      ],
      "metadata": {
        "id": "w2qU3vjVJXqz"
      },
      "execution_count": null,
      "outputs": []
    },
    {
      "cell_type": "code",
      "source": [
        "model.rnd_search_cv.best_esmitator_.model"
      ],
      "metadata": {
        "id": "KTcTmvEZJiej"
      },
      "execution_count": null,
      "outputs": []
    }
  ]
}